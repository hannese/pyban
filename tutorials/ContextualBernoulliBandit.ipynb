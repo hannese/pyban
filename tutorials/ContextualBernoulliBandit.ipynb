{
 "cells": [
  {
   "cell_type": "raw",
   "metadata": {},
   "source": [
    "# In this tutorial we nvestigate policies for contextual Bernoulli bandits"
   ]
  },
  {
   "cell_type": "code",
   "execution_count": 1,
   "metadata": {
    "collapsed": true
   },
   "outputs": [],
   "source": [
    "%matplotlib inline\n",
    "from pylab import *\n",
    "import numpy as np\n",
    "import math\n",
    "sys.path.append('..\\\\')\n",
    "import pyban.bandit\n",
    "import pyban.adversarial\n",
    "import pyban.stochastic\n",
    "import pyban.contextual"
   ]
  },
  {
   "cell_type": "code",
   "execution_count": 2,
   "metadata": {
    "collapsed": false,
    "scrolled": true
   },
   "outputs": [
    {
     "data": {
      "image/png": "[encoded data removed]",
      "text/plain": [
       "<matplotlib.figure.Figure at 0x8584a90>"
      ]
     },
     "metadata": {},
     "output_type": "display_data"
    }
   ],
   "source": [
    "def mx(x):\n",
    "    assert(x>=0 and x<=1)\n",
    "    return [x, 1-x, 0.75]\n",
    "\n",
    "def vx(x):\n",
    "    assert(x>=0 and x<=1)\n",
    "    return [x * (1-x), (1-x) * x, 0]\n",
    "\n",
    "def mx1(x):\n",
    "    assert(x>=0 and x<=1)\n",
    "    return x\n",
    "\n",
    "def mx2(x):\n",
    "    assert(x>=0 and x<=1)\n",
    "    return 1-x\n",
    "\n",
    "def mx3(x):\n",
    "    assert(x>=0 and x<=1)\n",
    "    return 0.75\n",
    "\n",
    "xs = np.linspace(0,1,100)\n",
    "means = np.zeros((len(xs), 3))\n",
    "\n",
    "means = np.array([mx(x) for x in xs])\n",
    "vs = np.array([vx(x) for x in xs])\n",
    "    \n",
    "f, axarr = plt.subplots(2, 3, sharex=True, sharey=True)\n",
    "axarr[0, 0].plot(xs, means[:, 0])\n",
    "axarr[0, 0].set_title('Bandit1 \\mu')\n",
    "axarr[0, 1].plot(xs, means[:, 1])\n",
    "axarr[0, 1].set_title('Bandit2 \\mu')\n",
    "axarr[0, 2].plot(xs, means[:, 2])\n",
    "axarr[0, 2].set_title('Bandit3 \\mu')\n",
    "axarr[1, 0].plot(xs, vs[:, 0])\n",
    "axarr[1, 0].set_title('Bandit1 \\sigma^2')\n",
    "axarr[1, 1].plot(xs, vs[:, 1])\n",
    "axarr[1, 1].set_title('Bandit2 \\sigma^2')\n",
    "axarr[1, 2].plot(xs, vs[:, 2])\n",
    "axarr[1, 2].set_title('Bandit3 \\sigma^2')\n",
    "# Fine-tune figure; hide x ticks for top plots and y ticks for right plots\n",
    "plt.setp([a.get_xticklabels() for a in axarr[0, :]], visible=False)\n",
    "plt.setp([a.get_xticklabels() for a in axarr[1, :]], visible=False)\n",
    "plt.setp([a.get_yticklabels() for a in axarr[:, 1]], visible=False)\n",
    "plt.setp([a.get_yticklabels() for a in axarr[:, 2]], visible=False)\n",
    "[a.set_ylim(0,1.00) for a in axarr[0, :]]\n",
    "[a.set_ylim(0,1.00) for a in axarr[1, :]]\n",
    "plt.show()"
   ]
  },
  {
   "cell_type": "raw",
   "metadata": {},
   "source": [
    "# Using this we can also show what the distribution of the optimal policy would look like, given context x_t"
   ]
  },
  {
   "cell_type": "code",
   "execution_count": 3,
   "metadata": {
    "collapsed": false
   },
   "outputs": [
    {
     "data": {
      "image/png": "[encoded data removed]",
      "text/plain": [
       "<matplotlib.figure.Figure at 0x8d150b8>"
      ]
     },
     "metadata": {},
     "output_type": "display_data"
    }
   ],
   "source": [
    "bestBandit = [np.argmax(m) for m in means]\n",
    "f, axarr = plt.subplots(2, 1)\n",
    "\n",
    "oracle_mean = [means[i,bestBandit[i]] for i in range(len(bestBandit))]\n",
    "oracle_var  = [vs[i,bestBandit[i]] for i in range(len(bestBandit))]\n",
    "axarr[0].plot(xs,oracle_mean)\n",
    "axarr[0].set_xlim(0,1.0)\n",
    "axarr[0].set_ylim(0,1.0)\n",
    "axarr[1].plot(xs,oracle_var)\n",
    "axarr[1].set_xlim(0,1.0)\n",
    "axarr[1].set_ylim(0,1.0)\n",
    "plt.show()"
   ]
  },
  {
   "cell_type": "code",
   "execution_count": 4,
   "metadata": {
    "collapsed": false
   },
   "outputs": [
    {
     "name": "stdout",
     "output_type": "stream",
     "text": [
      "[<function mx1 at 0x0000000008645C88>, <function mx2 at 0x0000000008645E48>, <function mx3 at 0x0000000008645DD8>]\n"
     ]
    },
    {
     "ename": "AttributeError",
     "evalue": "'module' object has no attribute 'argax'",
     "output_type": "error",
     "traceback": [
      "\u001b[1;31m\u001b[0m",
      "\u001b[1;31mAttributeError\u001b[0mTraceback (most recent call last)",
      "\u001b[1;32m<ipython-input-4-3861b00a1dd2>\u001b[0m in \u001b[0;36m<module>\u001b[1;34m()\u001b[0m\n\u001b[0;32m     14\u001b[0m     \u001b[0mx\u001b[0m \u001b[1;33m=\u001b[0m \u001b[0mnp\u001b[0m\u001b[1;33m.\u001b[0m\u001b[0mrandom\u001b[0m\u001b[1;33m.\u001b[0m\u001b[0mrand\u001b[0m\u001b[1;33m(\u001b[0m\u001b[1;33m)\u001b[0m\u001b[1;33m\u001b[0m\u001b[0m\n\u001b[0;32m     15\u001b[0m     \u001b[0mrewards\u001b[0m\u001b[1;33m[\u001b[0m\u001b[0mi\u001b[0m\u001b[1;33m]\u001b[0m \u001b[1;33m=\u001b[0m \u001b[1;33m[\u001b[0m\u001b[0mb\u001b[0m\u001b[1;33m.\u001b[0m\u001b[0msample\u001b[0m\u001b[1;33m(\u001b[0m\u001b[0mx\u001b[0m\u001b[1;33m)\u001b[0m \u001b[1;32mfor\u001b[0m \u001b[0mb\u001b[0m \u001b[1;32min\u001b[0m \u001b[0mbandits\u001b[0m\u001b[1;33m]\u001b[0m\u001b[1;33m\u001b[0m\u001b[0m\n\u001b[1;32m---> 16\u001b[1;33m     \u001b[0midxs\u001b[0m \u001b[1;33m=\u001b[0m \u001b[1;33m[\u001b[0m\u001b[0mp\u001b[0m\u001b[1;33m.\u001b[0m\u001b[0mplay\u001b[0m\u001b[1;33m(\u001b[0m\u001b[0mbandits\u001b[0m\u001b[1;33m,\u001b[0m \u001b[0mx\u001b[0m\u001b[1;33m)\u001b[0m \u001b[1;32mfor\u001b[0m \u001b[0mp\u001b[0m \u001b[1;32min\u001b[0m \u001b[0mpolicies\u001b[0m\u001b[1;33m]\u001b[0m\u001b[1;33m\u001b[0m\u001b[0m\n\u001b[0m\u001b[0;32m     17\u001b[0m     \u001b[1;32mfor\u001b[0m \u001b[0mj\u001b[0m \u001b[1;32min\u001b[0m \u001b[0mrange\u001b[0m\u001b[1;33m(\u001b[0m\u001b[0mlen\u001b[0m\u001b[1;33m(\u001b[0m\u001b[0mpolicies\u001b[0m\u001b[1;33m)\u001b[0m\u001b[1;33m)\u001b[0m\u001b[1;33m:\u001b[0m\u001b[1;33m\u001b[0m\u001b[0m\n\u001b[0;32m     18\u001b[0m         \u001b[0mpolicies\u001b[0m\u001b[1;33m[\u001b[0m\u001b[0mj\u001b[0m\u001b[1;33m]\u001b[0m\u001b[1;33m.\u001b[0m\u001b[0mobserve\u001b[0m\u001b[1;33m(\u001b[0m\u001b[0mrewards\u001b[0m\u001b[1;33m[\u001b[0m\u001b[0mi\u001b[0m\u001b[1;33m]\u001b[0m\u001b[1;33m[\u001b[0m\u001b[0midxs\u001b[0m\u001b[1;33m[\u001b[0m\u001b[0mj\u001b[0m\u001b[1;33m]\u001b[0m\u001b[1;33m]\u001b[0m\u001b[1;33m,\u001b[0m \u001b[0midxs\u001b[0m\u001b[1;33m[\u001b[0m\u001b[0mj\u001b[0m\u001b[1;33m]\u001b[0m\u001b[1;33m,\u001b[0m \u001b[0mx\u001b[0m\u001b[1;33m)\u001b[0m\u001b[1;33m\u001b[0m\u001b[0m\n",
      "\u001b[1;32mC:\\Users\\jag\\Box Sync\\pyban\\pyban\\contextual.pyc\u001b[0m in \u001b[0;36mplay\u001b[1;34m(self, bandits, x)\u001b[0m\n\u001b[0;32m     15\u001b[0m \u001b[1;33m\u001b[0m\u001b[0m\n\u001b[0;32m     16\u001b[0m     \u001b[1;32mdef\u001b[0m \u001b[0mplay\u001b[0m\u001b[1;33m(\u001b[0m\u001b[0mself\u001b[0m\u001b[1;33m,\u001b[0m \u001b[0mbandits\u001b[0m\u001b[1;33m,\u001b[0m \u001b[0mx\u001b[0m\u001b[1;33m)\u001b[0m\u001b[1;33m:\u001b[0m\u001b[1;33m\u001b[0m\u001b[0m\n\u001b[1;32m---> 17\u001b[1;33m         \u001b[1;32mreturn\u001b[0m \u001b[0mnp\u001b[0m\u001b[1;33m.\u001b[0m\u001b[0margax\u001b[0m\u001b[1;33m(\u001b[0m\u001b[1;33m[\u001b[0m\u001b[0mb\u001b[0m\u001b[1;33m.\u001b[0m\u001b[0mmf\u001b[0m\u001b[1;33m(\u001b[0m\u001b[0mx\u001b[0m\u001b[1;33m)\u001b[0m \u001b[1;32mfor\u001b[0m \u001b[0mb\u001b[0m \u001b[1;32min\u001b[0m \u001b[0mbandits\u001b[0m\u001b[1;33m]\u001b[0m\u001b[1;33m)\u001b[0m\u001b[1;33m\u001b[0m\u001b[0m\n\u001b[0m\u001b[0;32m     18\u001b[0m \u001b[1;33m\u001b[0m\u001b[0m\n\u001b[0;32m     19\u001b[0m     \u001b[1;32mdef\u001b[0m \u001b[0mobserve\u001b[0m\u001b[1;33m(\u001b[0m\u001b[0mself\u001b[0m\u001b[1;33m,\u001b[0m \u001b[0mreward\u001b[0m\u001b[1;33m,\u001b[0m \u001b[0mi\u001b[0m\u001b[1;33m)\u001b[0m\u001b[1;33m:\u001b[0m\u001b[1;33m\u001b[0m\u001b[0m\n",
      "\u001b[1;31mAttributeError\u001b[0m: 'module' object has no attribute 'argax'"
     ]
    }
   ],
   "source": [
    "print [mx1, mx2, mx3]\n",
    "bandits = [pyban.bandit.BernoulliBandit(p) for p in [0.5, 0.5]]\n",
    "bandits = [pyban.bandit.ContextualBernoulliBandit(mf) for mf in [mx1, mx2, mx3]]\n",
    "\n",
    "policies = [pyban.contextual.Random(),\n",
    "            pyban.contextual.OracleBest(),\n",
    "            pyban.contextual.OracleWorst()]\n",
    "\n",
    "horizon = 1000\n",
    "\n",
    "rewards = np.zeros((horizon, len(bandits)))\n",
    "\n",
    "for i in range(horizon):\n",
    "    x = np.random.rand()\n",
    "    rewards[i] = [b.sample(x) for b in bandits]\n",
    "    idxs = [p.play(bandits, x) for p in policies]\n",
    "    for j in range(len(policies)):\n",
    "        policies[j].observe(rewards[i][idxs[j]], idxs[j], x)\n",
    "    "
   ]
  }
 ],
 "metadata": {
  "kernelspec": {
   "display_name": "Python 2",
   "language": "python",
   "name": "python2"
  },
  "language_info": {
   "codemirror_mode": {
    "name": "ipython",
    "version": 2
   },
   "file_extension": ".py",
   "mimetype": "text/x-python",
   "name": "python",
   "nbconvert_exporter": "python",
   "pygments_lexer": "ipython2",
   "version": "2.7.12"
  }
 },
 "nbformat": 4,
 "nbformat_minor": 0
}
