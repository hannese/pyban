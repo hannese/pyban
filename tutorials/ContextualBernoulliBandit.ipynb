{
 "cells": [
  {
   "cell_type": "raw",
   "metadata": {},
   "source": [
    "# In this tutorial we nvestigate policies for contextual Bernoulli bandits"
   ]
  },
  {
   "cell_type": "code",
   "execution_count": 45,
   "metadata": {
    "collapsed": true
   },
   "outputs": [],
   "source": [
    "%matplotlib inline\n",
    "from pylab import *\n",
    "import numpy as np\n",
    "import math\n",
    "sys.path.append('..\\\\')\n",
    "import pyban.bandit\n",
    "import pyban.adversarial\n",
    "import pyban.stochastic"
   ]
  },
  {
   "cell_type": "raw",
   "metadata": {},
   "source": [
    "# We try three Bernoulli bandits to begin with, x, 1-x, and 0.75"
   ]
  },
  {
   "cell_type": "code",
   "execution_count": 46,
   "metadata": {
    "collapsed": false
   },
   "outputs": [
    {
     "data": {
      "image/png": "[encoded data removed]",
      "text/plain": [
       "<matplotlib.figure.Figure at 0x9f006d8>"
      ]
     },
     "metadata": {},
     "output_type": "display_data"
    }
   ],
   "source": [
    "def mx(x):\n",
    "    assert(x>=0 and x<=1)\n",
    "    return [x, 1-x, 0.75]\n",
    "\n",
    "def vx(x):\n",
    "    assert(x>=0 and x<=1)\n",
    "    return [x * (1-x), (1-x) * x, 0]\n",
    "\n",
    "xs = np.linspace(0,1,100)\n",
    "means = np.zeros((len(xs), 3))\n",
    "\n",
    "means = np.array([mx(x) for x in xs])\n",
    "vs = np.array([vx(x) for x in xs])\n",
    "\n",
    "f, axarr = plt.subplots(2, 3)\n",
    "axarr[0, 0].plot(xs, means[:, 0])\n",
    "axarr[0, 0].set_title('Bandit1 \\mu')\n",
    "axarr[0, 1].plot(xs, means[:, 1])\n",
    "axarr[0, 1].set_title('Bandit2 \\mu')\n",
    "axarr[0, 2].plot(xs, means[:, 2])\n",
    "axarr[0, 2].set_title('Bandit3 \\mu')\n",
    "axarr[1, 0].plot(xs, vs[:, 0])\n",
    "axarr[1, 0].set_title('Bandit1 \\sigma^2')\n",
    "axarr[1, 1].plot(xs, vs[:, 1])\n",
    "axarr[1, 1].set_title('Bandit2 \\sigma^2')\n",
    "axarr[1, 2].plot(xs, vs[:, 2])\n",
    "axarr[1, 2].set_title('Bandit3 \\sigma^2')\n",
    "# Fine-tune figure; hide x ticks for top plots and y ticks for right plots\n",
    "plt.setp([a.get_xticklabels() for a in axarr[0, :]], visible=False)\n",
    "plt.setp([a.get_xticklabels() for a in axarr[1, :]], visible=False)\n",
    "plt.setp([a.get_yticklabels() for a in axarr[:, 1]], visible=False)\n",
    "plt.setp([a.get_yticklabels() for a in axarr[:, 2]], visible=False)\n",
    "[a.set_ylim(0,1.00) for a in axarr[0, :]]\n",
    "[a.set_ylim(0,0.25) for a in axarr[1, :]]\n",
    "plt.show()"
   ]
  },
  {
   "cell_type": "raw",
   "metadata": {},
   "source": [
    "# Using this we can also show what the distribution of the optimal policy would look like, given context x_t"
   ]
  },
  {
   "cell_type": "code",
   "execution_count": 47,
   "metadata": {
    "collapsed": false
   },
   "outputs": [
    {
     "name": "stdout",
     "output_type": "stream",
     "text": [
      "[1, 1, 1, 1, 1, 1, 1, 1, 1, 1, 1, 1, 1, 1, 1, 1, 1, 1, 1, 1, 1, 1, 1, 1, 1, 2, 2, 2, 2, 2, 2, 2, 2, 2, 2, 2, 2, 2, 2, 2, 2, 2, 2, 2, 2, 2, 2, 2, 2, 2, 2, 2, 2, 2, 2, 2, 2, 2, 2, 2, 2, 2, 2, 2, 2, 2, 2, 2, 2, 2, 2, 2, 2, 2, 2, 0, 0, 0, 0, 0, 0, 0, 0, 0, 0, 0, 0, 0, 0, 0, 0, 0, 0, 0, 0, 0, 0, 0, 0, 0]\n"
     ]
    }
   ],
   "source": [
    "bestBandit = [np.argmax(m) for m in means]\n",
    "f, axarr = plt.subplots(2, 1)\n",
    "print bestBandit"
   ]
  }
 ],
 "metadata": {
  "kernelspec": {
   "display_name": "Python 2",
   "language": "python",
   "name": "python2"
  },
  "language_info": {
   "codemirror_mode": {
    "name": "ipython",
    "version": 2
   },
   "file_extension": ".py",
   "mimetype": "text/x-python",
   "name": "python",
   "nbconvert_exporter": "python",
   "pygments_lexer": "ipython2",
   "version": "2.7.12"
  }
 },
 "nbformat": 4,
 "nbformat_minor": 0
}
