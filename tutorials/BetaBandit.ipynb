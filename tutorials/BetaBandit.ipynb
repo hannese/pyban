{
 "cells": [
  {
   "cell_type": "raw",
   "metadata": {},
   "source": [
    "# In this tutorial we investigate how one would create a prior for unfair coinflips"
   ]
  },
  {
   "cell_type": "code",
   "execution_count": 28,
   "metadata": {
    "collapsed": true
   },
   "outputs": [],
   "source": [
    "%matplotlib inline\n",
    "from pylab import *\n",
    "import numpy as np\n",
    "from scipy.stats import beta"
   ]
  },
  {
   "cell_type": "raw",
   "metadata": {},
   "source": [
    "We begin by importing the necessary modules:\n",
    "    pylab - for plotting\n",
    "    numpy - for array creation and sampling\n",
    "    scipy - for distribution methods"
   ]
  },
  {
   "cell_type": "code",
   "execution_count": 29,
   "metadata": {
    "collapsed": false
   },
   "outputs": [
    {
     "data": {
      "text/latex": [
       "\\begin{align}\n",
       "p(A) &\\sim \\beta(\\alpha_A, \\beta_A) \\\\\n",
       "p(B) &\\sim \\beta(\\alpha_B, \\beta_B) \\\\\n",
       "p(A \\mid p(A)>p(B),A=1) &= \\beta(\\alpha_A+1, \\beta_A) \\\\\n",
       "p(A \\mid p(A)>p(B),A=0) &= \\beta(\\alpha_A, \\beta_A+1) \\\\\n",
       "p(B \\mid p(A) \\leq p(B),B=1) &= \\beta(\\alpha_B+1, \\beta_B) \\\\\n",
       "p(B \\mid p(A) \\leq p(B),B=0) &= \\beta(\\alpha_B, \\beta_B+1)\n",
       "\\end{align}"
      ],
      "text/plain": [
       "<IPython.core.display.Latex object>"
      ]
     },
     "metadata": {},
     "output_type": "display_data"
    }
   ],
   "source": [
    "%%latex\n",
    "\\begin{align}\n",
    "p(A) &\\sim \\beta(\\alpha_A, \\beta_A) \\\\\n",
    "p(B) &\\sim \\beta(\\alpha_B, \\beta_B) \\\\\n",
    "p(A \\mid p(A)>p(B),A=1) &= \\beta(\\alpha_A+1, \\beta_A) \\\\\n",
    "p(A \\mid p(A)>p(B),A=0) &= \\beta(\\alpha_A, \\beta_A+1) \\\\\n",
    "p(B \\mid p(A) \\leq p(B),B=1) &= \\beta(\\alpha_B+1, \\beta_B) \\\\\n",
    "p(B \\mid p(A) \\leq p(B),B=0) &= \\beta(\\alpha_B, \\beta_B+1)\n",
    "\\end{align}"
   ]
  },
  {
   "cell_type": "code",
   "execution_count": 30,
   "metadata": {
    "collapsed": false
   },
   "outputs": [
    {
     "data": {
      "image/png": "[encoded data removed]",
      "text/plain": [
       "<matplotlib.figure.Figure at 0x90de588>"
      ]
     },
     "metadata": {},
     "output_type": "display_data"
    }
   ],
   "source": [
    "alpha_a, beta_a, alpha_b, beta_b = 1, 1, 1, 1\n",
    "\n",
    "xs = np.linspace(0,1.0,100)\n",
    "ys_a = beta.pdf(xs, alpha_a, beta_a)\n",
    "ys_b = beta.pdf(xs, alpha_b, beta_b)\n",
    "\n",
    "plt.plot(xs,ys_a,label='Arm a')\n",
    "plt.plot(xs,ys_b,label='Arm b')\n",
    "plt.ylabel('pdf')\n",
    "plt.xlabel('p')\n",
    "plt.legend()\n",
    "plt.show()"
   ]
  },
  {
   "cell_type": "raw",
   "metadata": {},
   "source": [
    "Initially we know nothing about the coinflips so our prior is uniform across the x-axis"
   ]
  },
  {
   "cell_type": "code",
   "execution_count": 33,
   "metadata": {
    "collapsed": false,
    "scrolled": false
   },
   "outputs": [
    {
     "data": {
      "image/png": "[encoded data removed]",
      "text/plain": [
       "<matplotlib.figure.Figure at 0x8b97390>"
      ]
     },
     "metadata": {},
     "output_type": "display_data"
    }
   ],
   "source": [
    "pa, pb = 0.55, 0.5\n",
    "iterations = 10000\n",
    "\n",
    "for i in range(iterations):\n",
    "    sample_a = np.random.beta(alpha_a, beta_a)\n",
    "    sample_b = np.random.beta(alpha_b, beta_b)\n",
    "    \n",
    "    if sample_a > sample_b: # play arm a\n",
    "        reward_a = (rand() < pa)\n",
    "        if reward_a == 1:\n",
    "            alpha_a += 1\n",
    "        else:\n",
    "            beta_a += 1\n",
    "    else:                    # play arm b\n",
    "        reward_b = (rand() < pb) \n",
    "        if reward_b == 1:\n",
    "            alpha_b += 1\n",
    "        else:\n",
    "            beta_b += 1\n",
    "\n",
    "ys_a = beta.pdf(xs, alpha_a, beta_a)\n",
    "ys_b = beta.pdf(xs, alpha_b, beta_b)\n",
    "\n",
    "plt.plot(xs,ys_a,label='Arm a')\n",
    "plt.plot(xs,ys_b,label='Arm b')\n",
    "plt.ylabel('pdf')\n",
    "plt.xlabel('p')\n",
    "plt.legend()\n",
    "plt.show()"
   ]
  },
  {
   "cell_type": "code",
   "execution_count": null,
   "metadata": {
    "collapsed": true
   },
   "outputs": [],
   "source": []
  }
 ],
 "metadata": {
  "kernelspec": {
   "display_name": "Python 2",
   "language": "python",
   "name": "python2"
  },
  "language_info": {
   "codemirror_mode": {
    "name": "ipython",
    "version": 2
   },
   "file_extension": ".py",
   "mimetype": "text/x-python",
   "name": "python",
   "nbconvert_exporter": "python",
   "pygments_lexer": "ipython2",
   "version": "2.7.12"
  }
 },
 "nbformat": 4,
 "nbformat_minor": 0
}
